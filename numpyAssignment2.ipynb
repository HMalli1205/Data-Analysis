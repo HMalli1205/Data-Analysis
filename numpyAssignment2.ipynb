{
 "cells": [
  {
   "cell_type": "code",
   "execution_count": 2,
   "id": "94180b1e",
   "metadata": {},
   "outputs": [
    {
     "name": "stdout",
     "output_type": "stream",
     "text": [
      "5-dimensional array with all zeros and ones:\n",
      " [[[[[0 0 1 1 1]\n",
      "    [0 1 0 1 0]\n",
      "    [0 0 1 1 1]\n",
      "    [1 0 0 0 0]]\n",
      "\n",
      "   [[0 0 1 1 0]\n",
      "    [1 1 0 1 1]\n",
      "    [0 0 0 0 0]\n",
      "    [1 0 1 0 1]]\n",
      "\n",
      "   [[0 1 0 0 0]\n",
      "    [0 1 0 0 1]\n",
      "    [0 1 0 1 0]\n",
      "    [0 1 1 1 1]]]\n",
      "\n",
      "\n",
      "  [[[1 1 0 0 0]\n",
      "    [1 0 1 1 0]\n",
      "    [1 1 0 0 0]\n",
      "    [1 0 1 1 1]]\n",
      "\n",
      "   [[0 0 1 0 1]\n",
      "    [0 1 0 1 0]\n",
      "    [0 0 0 0 0]\n",
      "    [1 1 0 1 1]]\n",
      "\n",
      "   [[0 0 0 1 0]\n",
      "    [1 1 1 1 0]\n",
      "    [0 1 1 0 0]\n",
      "    [0 1 1 1 1]]]]]\n"
     ]
    }
   ],
   "source": [
    "#1.Write a program to write 5-dimensional array with all zeroes and ones\n",
    "import random\n",
    "import numpy as np\n",
    "array01_5d=np.random.randint(0,2,(1,2,3,4,5))\n",
    "print(\"5-dimensional array with all zeros and ones:\\n\",array01_5d)"
   ]
  },
  {
   "cell_type": "code",
   "execution_count": 24,
   "id": "b0d0fc05",
   "metadata": {},
   "outputs": [
    {
     "name": "stdout",
     "output_type": "stream",
     "text": [
      "[[0 0 0 0 0 0 0 0 0 0]\n",
      " [1 1 1 1 1 1 1 1 1 1]\n",
      " [5 5 5 5 5 5 5 5 5 5]]\n"
     ]
    }
   ],
   "source": [
    "#2.Write a program to create an array of 10 zeros,10 ones and 10 fives in rows 1,2 and 3 respectively \n",
    "# which create a new array of shape (3,10)\n",
    "n_array=np.array([0,1,5])\n",
    "t_array=np.repeat(a,10)\n",
    "r_array=t_array.reshape(3,10)\n",
    "print(r_array)"
   ]
  },
  {
   "cell_type": "code",
   "execution_count": 26,
   "id": "53d98ea6",
   "metadata": {},
   "outputs": [
    {
     "name": "stdout",
     "output_type": "stream",
     "text": [
      "3x4 matrix filled with values from 10 to 21:\n",
      " [[10 17 18 16]\n",
      " [21 11 14 16]\n",
      " [13 20 21 18]]\n"
     ]
    }
   ],
   "source": [
    "#3.Write a program to create a 3x4 matrix filled with values from 10 to 21\n",
    "f_array=np.random.randint(10,22,(3,4))    #21 included\n",
    "print(\"3x4 matrix filled with values from 10 to 21:\\n\",f_array)"
   ]
  },
  {
   "cell_type": "code",
   "execution_count": 67,
   "id": "d85bd65c",
   "metadata": {},
   "outputs": [
    {
     "name": "stdout",
     "output_type": "stream",
     "text": [
      "10x10 zero matrix with elements from 0 to 9 as main diagonal:\n",
      " [[0 0 0 0 0 0 0 0 0 0]\n",
      " [0 1 0 0 0 0 0 0 0 0]\n",
      " [0 0 2 0 0 0 0 0 0 0]\n",
      " [0 0 0 3 0 0 0 0 0 0]\n",
      " [0 0 0 0 4 0 0 0 0 0]\n",
      " [0 0 0 0 0 5 0 0 0 0]\n",
      " [0 0 0 0 0 0 6 0 0 0]\n",
      " [0 0 0 0 0 0 0 7 0 0]\n",
      " [0 0 0 0 0 0 0 0 8 0]\n",
      " [0 0 0 0 0 0 0 0 0 9]]\n"
     ]
    }
   ],
   "source": [
    "#4.Write a program to create a 10x10 zero matrix with elements on the main diagonal equal to 01,2,3,4,5,6,7,8,9\n",
    "dm_10x10=np.diag(range(0,10))\n",
    "print(\"10x10 zero matrix with elements from 0 to 9 as main diagonal:\\n\",dm_10x10)"
   ]
  },
  {
   "cell_type": "code",
   "execution_count": 112,
   "id": "03ae2b05",
   "metadata": {},
   "outputs": [
    {
     "name": "stdout",
     "output_type": "stream",
     "text": [
      "Given 4x4 array:\n",
      " [[ 1  2  3  4]\n",
      " [ 5  6  7  8]\n",
      " [ 9 10 11 12]\n",
      " [13 14 15 16]]\n",
      "Array formed by swapping the first and last columns, second and third columns:\n",
      " [[ 4  3  2  1]\n",
      " [ 8  7  6  5]\n",
      " [12 11 10  9]\n",
      " [16 15 14 13]]\n"
     ]
    }
   ],
   "source": [
    "#5.Write a program to create a 4x4 array. Create an array from given array\n",
    "#by swapping the first and last columns, second and third columns.\n",
    "g_array=np.arange(1,17).reshape(4,4)\n",
    "print(\"Given 4x4 array:\\n\",g_array)\n",
    "c1_arr=g_array[[0,1,2,3],[0,0,0,0]].reshape(4,1)\n",
    "c2_arr=g_array[[0,1,2,3],[1,1,1,1]].reshape(4,1)\n",
    "c3_arr=g_array[[0,1,2,3],[2,2,2,2]].reshape(4,1)\n",
    "c4_arr=g_array[[0,1,2,3],[3,3,3,3]].reshape(4,1)\n",
    "swapped_array=np.concatenate([c4_arr,c3_arr,c2_arr,c1_arr],axis=1)\n",
    "print(\"Array formed by swapping the first and last columns, second and third columns:\\n\",swapped_array)"
   ]
  },
  {
   "cell_type": "code",
   "execution_count": 73,
   "id": "995ef39c",
   "metadata": {},
   "outputs": [
    {
     "name": "stdout",
     "output_type": "stream",
     "text": [
      "Given array: [12 13 14 15 16 17 18 19 20 21 22 23 24 25 26 27]\n",
      "Reversed array: [27 26 25 24 23 22 21 20 19 18 17 16 15 14 13 12]\n"
     ]
    }
   ],
   "source": [
    "#6.Write a program to reverse an array(the first element becomes the last)\n",
    "#given array : [12 13 14 15 16 17 18 19 20 21 22 23 24 25 26 27]\n",
    "giv_arr=np.arange(12,28)\n",
    "print(\"Given array:\",giv_arr)\n",
    "rev_arr=given_arr[::-1]\n",
    "print(\"Reversed array:\",rev_arr)"
   ]
  },
  {
   "cell_type": "code",
   "execution_count": 106,
   "id": "3a04ea5a",
   "metadata": {},
   "outputs": [
    {
     "name": "stdout",
     "output_type": "stream",
     "text": [
      "Given 10x10 array with elements ranging from 1 to 100:\n",
      " [[28 28 80 25 82 30 69 97  6 86]\n",
      " [62 18  6 59  6 49 32 44 27 34]\n",
      " [27 15 33 61 59 32 36 39 12 19]\n",
      " [72 20 33 34 10 48 58 11 40 12]\n",
      " [ 7 95 85 25 21 87 97 10 83 58]\n",
      " [89 17 33 20 49 19  6 61  9  6]\n",
      " [75 86 39 81 30 75 32 69 83 52]\n",
      " [20 82 67 68 11 96 76 95 62 39]\n",
      " [89 50 85 96 71 57 91 51  6 96]\n",
      " [74 31 95 57 25 27 96 21 42 14]]\n",
      "Array with elements greater than 30,less than 80 and multiples of 5:\n",
      " [40 75 75 50]\n"
     ]
    }
   ],
   "source": [
    "#7.Write a program to access all the elements greater than 30,less than 80 and multiples of 5\n",
    "#from an array of shape (10,10) with elements ranging from 1 to 100\n",
    "g_arr=np.random.randint(1,101,(10,10))\n",
    "print(\"Given 10x10 array with elements ranging from 1 to 100:\\n\",g_arr)\n",
    "condition_arr=g_arr[np.where((g_arr>30)&(g_arr<80)&(g_arr%5==0))]\n",
    "print(\"Array with elements greater than 30,less than 80 and multiples of 5:\\n\",condition_arr)"
   ]
  },
  {
   "cell_type": "code",
   "execution_count": 111,
   "id": "5ae22d6a",
   "metadata": {},
   "outputs": [
    {
     "name": "stdout",
     "output_type": "stream",
     "text": [
      "Enter number of rows: 8\n",
      "Enter number of columns: 6\n",
      "\n",
      "2-D array of shape (8,6) with 1 on the border and 0 inside:\n",
      "[[1 1 1 1 1 1]\n",
      " [1 0 0 0 0 1]\n",
      " [1 0 0 0 0 1]\n",
      " [1 0 0 0 0 1]\n",
      " [1 0 0 0 0 1]\n",
      " [1 0 0 0 0 1]\n",
      " [1 0 0 0 0 1]\n",
      " [1 1 1 1 1 1]]\n"
     ]
    }
   ],
   "source": [
    "#8.Write a program to create a 2-D array with 1 on the border and 0 inside.\n",
    "r=int(input(\"Enter number of rows: \"))\n",
    "c=int(input(\"Enter number of columns: \"))\n",
    "X=np.ones((r,c),dtype=int)\n",
    "i=1                        #since 0's should not be in 0th row index \n",
    "j=1                        #and 0th column index\n",
    "while i<int(r-1):          #avoiding last row and last column,so use < condition.Also,i<r-1 & j<c-1 because row_index\n",
    "    while j<int(c-1):      #& column_index are always 1 no. less than mathematical row_no. & column_no.since ind_vals are from 0\n",
    "        X[i,j]=0           #integer based indexing\n",
    "        j=j+1              #column increasing, same row. when last column is being reached, break out of loop\n",
    "    i=i+1                  #next row\n",
    "    j=1                    #again starting from 1st column\n",
    "    \n",
    "print(\"\\n2-D array of shape ({},{}) with 1 on the border and 0 inside:\".format(r,c))\n",
    "print(X)"
   ]
  },
  {
   "cell_type": "code",
   "execution_count": 125,
   "id": "d80066fe",
   "metadata": {},
   "outputs": [
    {
     "name": "stdout",
     "output_type": "stream",
     "text": [
      "Checkerboard pattern with 0's and 1's:\n",
      "[[0 1 0 1 0 1 0 1]\n",
      " [1 0 1 0 1 0 1 0]\n",
      " [0 1 0 1 0 1 0 1]\n",
      " [1 0 1 0 1 0 1 0]\n",
      " [0 1 0 1 0 1 0 1]\n",
      " [1 0 1 0 1 0 1 0]\n",
      " [0 1 0 1 0 1 0 1]\n",
      " [1 0 1 0 1 0 1 0]]\n"
     ]
    }
   ],
   "source": [
    "#9.Write a program to create a checkerboard pattern. Don't use default array function.\n",
    "array_01=np.tile([0,1],(1,4))\n",
    "array_10=np.tile([1,0],(1,4))\n",
    "c_arr=np.concatenate([array_01,array_10],axis=0)  #row cancatenation\n",
    "ch_pat=np.vstack([c_arr,c_arr,c_arr,c_arr])   #row cancetanation\n",
    "print(\"Checkerboard pattern with 0's and 1's:\")\n",
    "print(ch_pat)"
   ]
  },
  {
   "cell_type": "code",
   "execution_count": 97,
   "id": "7ebb8f67",
   "metadata": {},
   "outputs": [
    {
     "name": "stdout",
     "output_type": "stream",
     "text": [
      "array1:\n",
      " [10 20 40 60]\n",
      "array2:\n",
      " [10 30 40 50]\n"
     ]
    }
   ],
   "source": [
    "#10.Write a program to find common values between two arrays.\n",
    "#Expected output: array1: [10 20 40 60], array2: [10, 30, 40,50]\n",
    "a1=np.array([10,20,30,40,50,60,70,80,90,100])\n",
    "a2=np.array([10,20,40,60])\n",
    "a3=np.array([10,30,40,50])\n",
    "print(\"array1:\\n\",np.intersect1d(a1,a2))\n",
    "print(\"array2:\\n\",np.intersect1d(a1,a3))"
   ]
  },
  {
   "cell_type": "code",
   "execution_count": 126,
   "id": "b51978ce",
   "metadata": {},
   "outputs": [
    {
     "name": "stdout",
     "output_type": "stream",
     "text": [
      "2-D array:\n",
      " [[0.61999565 0.3657672  0.52026845 0.573132   0.15501744]\n",
      " [0.1883986  0.65313918 0.93180487 0.11486508 0.84839833]\n",
      " [0.51333097 0.19110366 0.59194367 0.77466869 0.20666603]\n",
      " [0.12775724 0.02642054 0.09219975 0.53646423 0.89614949]\n",
      " [0.00360698 0.56961244 0.04842114 0.41304116 0.55419771]]\n",
      "Reshaped into 1-D array:\n",
      " [0.61999565 0.3657672  0.52026845 0.573132   0.15501744 0.1883986\n",
      " 0.65313918 0.93180487 0.11486508 0.84839833 0.51333097 0.19110366\n",
      " 0.59194367 0.77466869 0.20666603 0.12775724 0.02642054 0.09219975\n",
      " 0.53646423 0.89614949 0.00360698 0.56961244 0.04842114 0.41304116\n",
      " 0.55419771]\n"
     ]
    },
    {
     "data": {
      "text/plain": [
       "1"
      ]
     },
     "execution_count": 126,
     "metadata": {},
     "output_type": "execute_result"
    }
   ],
   "source": [
    "#11.Write a program to create a 2d array and then reshape into 1d array\n",
    "arr_2d=np.random.rand(5,5)\n",
    "print(\"2-D array:\\n\",arr_2d)\n",
    "arr_1d=arr_2d.flatten()\n",
    "print(\"Reshaped into 1-D array:\\n\",arr_1d)\n",
    "arr_1d.ndim"
   ]
  },
  {
   "cell_type": "code",
   "execution_count": 127,
   "id": "4f41e6de",
   "metadata": {},
   "outputs": [],
   "source": [
    "#12.Write a user-defined function to create a 1-d or 2-d array from scratch without using array functions\n",
    "def create_array():\n",
    "    l1=[]\n",
    "    l2=[]\n",
    "    noe1=int(input(\"Enter number of elements you want in the 1st list: \"))\n",
    "    i=1\n",
    "    while i<=int(noe1):\n",
    "        element_l1=input(\"Enter an element for 1st list: \")\n",
    "        l1.append(element_l1)\n",
    "        i=i+1\n",
    "    noe2=int(input(\"Enter number of elements you want in the 2nd list: \"))\n",
    "    j=1\n",
    "    while j<=int(noe2):\n",
    "        element_l2=input(\"Enter an element for 2nd list: \")\n",
    "        l2.append(element_l2)\n",
    "        j=j+1\n",
    "    array_c=[l1,l2]\n",
    "    print(\"2-d array generated from scratch, using nested lists:\\n\",array_c)\n",
    "    print(type(array_c))\n",
    " #IN PROGRESS"
   ]
  },
  {
   "cell_type": "code",
   "execution_count": 139,
   "id": "32946536",
   "metadata": {
    "scrolled": true
   },
   "outputs": [
    {
     "name": "stdout",
     "output_type": "stream",
     "text": [
      "Enter number of elements you want in the 1st list: 2\n",
      "Enter an element for 1st list: 3\n",
      "Enter an element for 1st list: 4\n",
      "Enter number of elements you want in the 2nd list: 2\n",
      "Enter an element for 2nd list: 4\n",
      "Enter an element for 2nd list: 5\n",
      "2-d array generated from scratch, using nested lists:\n",
      " [['3', '4'], ['4', '5']]\n",
      "<class 'list'>\n"
     ]
    }
   ],
   "source": [
    "create_array()"
   ]
  }
 ],
 "metadata": {
  "kernelspec": {
   "display_name": "Python 3 (ipykernel)",
   "language": "python",
   "name": "python3"
  },
  "language_info": {
   "codemirror_mode": {
    "name": "ipython",
    "version": 3
   },
   "file_extension": ".py",
   "mimetype": "text/x-python",
   "name": "python",
   "nbconvert_exporter": "python",
   "pygments_lexer": "ipython3",
   "version": "3.11.3"
  }
 },
 "nbformat": 4,
 "nbformat_minor": 5
}
