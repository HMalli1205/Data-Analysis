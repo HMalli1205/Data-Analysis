{
 "cells": [
  {
   "cell_type": "markdown",
   "id": "fcfc381b",
   "metadata": {},
   "source": [
    "### Import the required libraries to perform following tasks \n",
    "1. what is the difference between list and array (min of 4 points )\n",
    "2. Write python code to create 3d array in different ways with 15 elements.(Min of 3 ways )\n",
    "3. how will you proove that arrays are faster than lists,and whhy it is faster tell it in a point.\n",
    "4. Array Creation: \n",
    "    - a.Create a 4D NumPy array containing the first 12 positive integers as arr1,ofter creating check the dimension of the              array and also dtype of the elements.\n",
    "    - b.Create a 3D NumPy array1 with 20 random elements containing integers between 0 and 1 and make every element as                  string.and ofter creating check what is the shape of the array.\n",
    "5. create an array with all zeros without using np.zeros method.\n",
    "6. create an array and perform all the arthamatic operations on it \n",
    "7. Create a 2x2 matrix A with elements from 1 to 4 and another matrix B with elements from 5 to 8.\n",
    "   - a. Add matrices A and B.\n",
    "   - b. Multiply matrices A and B element-wise.\n",
    "   - c. Find the dot product of matrices A and B.\n",
    "8. Create a 3x3 matrix C with random integers.\n",
    "   - a. Find the sum of each row in matrix C.\n",
    "   - b. Find the sum of each column in matrix C.\n",
    "   - c. Find the product of all elements in matrix C.  \n",
    "9. a. Create a boolean array based on whether elements in matrix C are greater than 0.\n",
    "   b. Use logical AND operation to find elements greater than 2 and less than 5 in matrix C.\n",
    "10. a. Access the element in the second row and third column of matrix C.\n",
    "    b. Slice the first two columns of matrix C.\n",
    "    c. Extract all elements greater than 3 from matrix C.\n",
    "\n",
    "\n",
    "Note:- \n",
    "  1) All create a new repository In github for data analysis and upload the assignment file there \n",
    "  2) Use comments for question and below write down the answers"
   ]
  },
  {
   "cell_type": "code",
   "execution_count": 1,
   "id": "41e4b8ab",
   "metadata": {},
   "outputs": [],
   "source": [
    "#1.What are the differences between list and array?\n",
    "#Ans.\n",
    "#Lists-\n",
    "#(i)Lists can store different types of data(heterogeneous)\n",
    "#(ii)Lists occupy large memory as they are dynamically allocated.\n",
    "#(iii)Operations are applied on the complete list as one whole element.For eg-[1,2,3]*2=[1,2,3,1,2,3]\n",
    "#(iv)There is no need to explicitly import a module for declaration.\n",
    "#(v)Computation is slow,mainly because of above features.\n",
    "#(vi)Lists are one-dimensional.\n",
    "#(vii)Preferrable for short sequence of data items\n",
    "\n",
    "#Arrays-\n",
    "#(i)Arrays store same type of data(homogeneous).If in case of different types of data given, all data elements are converted to\n",
    "#same data type,with the order of preference-1.str,2.complex,3.float,4.integer\n",
    "#(ii)Arrays consume less memory as we can mention the dtatatype to be used(Like int8,int16 etc.)\n",
    "#(iii)Operations are applied on each element of the array.For eg-if x=np.array([1,2,3]), np.add(x,2)=np.array([3,4,5])\n",
    "#(iv)There is need to explicitly import a module for declaration.\n",
    "#(v)Computation is fast, approximately a 100 times faster than lists\n",
    "#(vi)Arrays are n-dimensional.\n",
    "#(vii)Preferrable for long sequence of data items."
   ]
  },
  {
   "cell_type": "code",
   "execution_count": 4,
   "id": "d42961aa",
   "metadata": {},
   "outputs": [
    {
     "name": "stdout",
     "output_type": "stream",
     "text": [
      "Requirement already satisfied: numpy in c:\\users\\mallikarjun h\\anaconda3\\lib\\site-packages (1.24.3)\n",
      "Note: you may need to restart the kernel to use updated packages.\n"
     ]
    }
   ],
   "source": [
    "pip install numpy"
   ]
  },
  {
   "cell_type": "code",
   "execution_count": 5,
   "id": "32d2751e",
   "metadata": {},
   "outputs": [],
   "source": [
    "import numpy as np"
   ]
  },
  {
   "cell_type": "code",
   "execution_count": 37,
   "id": "f5a7c902",
   "metadata": {},
   "outputs": [
    {
     "name": "stdout",
     "output_type": "stream",
     "text": [
      "3D array created by creating lists inside list 3 times: \n",
      "[[[1 2]\n",
      "  [2 3]\n",
      "  [3 4]]]\n",
      "3D array created by specifying the dimension using ndmin parameter: \n",
      "[[[1 2 3]]]\n",
      "3D array created by reshaping a 2D array: \n",
      "[[[0.75958034 0.2945683 ]\n",
      "  [0.47593591 0.0386422 ]]\n",
      "\n",
      " [[0.78333215 0.29548953]\n",
      "  [0.59442257 0.36066673]]]\n"
     ]
    }
   ],
   "source": [
    "#2.Write python code to create 3d array in different ways with 15 elements.(Min of 3 ways )\n",
    "\n",
    "#(i)\n",
    "\n",
    "array_1=np.array([[[1,2],[2,3],[3,4]]])\n",
    "print(\"3D array created by creating lists inside list 3 times: \")\n",
    "print(array_1)\n",
    "\n",
    "#(ii)\n",
    "\n",
    "array_2=np.array([1,2,3],ndmin=3)\n",
    "print(\"3D array created by specifying the dimension using ndmin parameter: \")\n",
    "print(array_2)\n",
    "\n",
    "#(iii)\n",
    "\n",
    "import random\n",
    "x=np.random.random((1,8))\n",
    "print(\"3D array created by reshaping a 2D array: \")\n",
    "array_3=x.reshape(2,2,2)\n",
    "print(array_3)"
   ]
  },
  {
   "cell_type": "code",
   "execution_count": 49,
   "id": "0a6660a4",
   "metadata": {},
   "outputs": [
    {
     "name": "stdout",
     "output_type": "stream",
     "text": [
      "-0.002000093460083008\n",
      "-0.1149740219116211\n"
     ]
    }
   ],
   "source": [
    "#3.How will you proove that arrays are faster than lists,and why it is faster tell it in a point?\n",
    "\n",
    "import time\n",
    "sta=time.time()\n",
    "ar=np.arange(1,1000000)\n",
    "eta=time.time()\n",
    "print(sta-eta)\n",
    "\n",
    "stl=time.time()\n",
    "l=[]\n",
    "for y in range(1,1000000):\n",
    "    l.append(y)\n",
    "etl=time.time()\n",
    "print(stl-etl)\n",
    "\n",
    "#In the above code, we use the time() of the time module to determine the amount of time taken to create an array and a list.\n",
    "#Clearly,we can see that an array is created much faster as compared to a list, almost a 100 times faster\n",
    "#One of the main reasons for this is that arrays consume less memory because the datatype can be specified(default is float)\n",
    "#Whereas lists consume large amounts of memory as they are dynamically allocated"
   ]
  },
  {
   "cell_type": "code",
   "execution_count": 92,
   "id": "d0d502f6",
   "metadata": {},
   "outputs": [
    {
     "name": "stdout",
     "output_type": "stream",
     "text": [
      "(a) \n",
      "4D Array containg first 12 positive integers as array:  [[[[ 1  2  3  4  5  6  7  8  9 10 11 12]]]]\n",
      "Dimension of the array:  4\n",
      "Datatype of the elements:  int32\n",
      "(b) \n",
      "3D Array containing 20 random elements between 0 and 1, converted string datatype: \n",
      "[[['0.06470618202846423' '0.8320396089858121' '0.014507586061734634'\n",
      "   '0.9306327323731451' '0.14746038644279724' '0.4165185376739984'\n",
      "   '0.836446468218077' '0.6679558393786975' '0.5532641055176782'\n",
      "   '0.5906781407194778' '0.21031442482456453' '0.7503009774040162'\n",
      "   '0.18814270747745332' '0.08645652840771068' '0.9885111272220921'\n",
      "   '0.8725412844831331' '0.6753985792011903' '0.8219075830922911'\n",
      "   '0.6082133970637666' '0.10055351847233296']]]\n",
      "Shape of the array:  (1, 1, 20)\n"
     ]
    }
   ],
   "source": [
    "#4.Array Creation:\n",
    "#a.Create a 4D NumPy array containing the first 12 positive integers as array,\n",
    "#after creating check the dimension of the array and also dtype of the elements.\n",
    "#b.Create a 3D NumPy array1 with 20 random elements containing integers between 0 and 1 and make every element as string,\n",
    "#and ofter creating check what is the shape of the array.\n",
    "\n",
    "#(a)\n",
    "arr4=np.array(range(1,13),ndmin=4)\n",
    "print(\"(a) \\n4D Array containg first 12 positive integers as array: \",arr4)\n",
    "print(\"Dimension of the array: \",arr4.ndim)\n",
    "print(\"Datatype of the elements: \",arr4.dtype)\n",
    "\n",
    "#(b)\n",
    "arR=np.random.random(20)\n",
    "arr3d=np.array(arR,ndmin=3,dtype=str)\n",
    "print(\"(b) \\n3D Array containing 20 random elements between 0 and 1, converted string datatype: \")\n",
    "print(arr3d)\n",
    "print(\"Shape of the array: \",arr3d.shape)"
   ]
  },
  {
   "cell_type": "code",
   "execution_count": 104,
   "id": "7c4db5ed",
   "metadata": {},
   "outputs": [
    {
     "name": "stdout",
     "output_type": "stream",
     "text": [
      "[[0 0 0]\n",
      " [0 0 0]\n",
      " [0 0 0]]\n"
     ]
    }
   ],
   "source": [
    "#5.Create an array with all zeros without using np.zeros method.\n",
    "\n",
    "zarray=np.full((3,3,),0,dtype=int) #here, we used the full() instead of the np.zeroes() method\n",
    "print(zarray)"
   ]
  },
  {
   "cell_type": "code",
   "execution_count": 142,
   "id": "9016dcbc",
   "metadata": {},
   "outputs": [
    {
     "name": "stdout",
     "output_type": "stream",
     "text": [
      "array+2=  [3 4 5]\n",
      "array-2=  [-1  0  1]\n",
      "array*2=  [2 4 6]\n",
      "array/2=  [0.5 1.  1.5]\n",
      "array//2=  [0 1 1]\n",
      "array%2=  [1 0 1]\n",
      "array1+array2=  [5 7 9]\n",
      "array1-array2=  [-3 -3 -3]\n",
      "array1*array2=  [ 4 10 18]\n",
      "arraya/array2=  [0.25 0.4  0.5 ]\n",
      "array1//array2=  [0 0 0]\n",
      "array1%array2=  [1 2 3]\n"
     ]
    }
   ],
   "source": [
    "#6. Create an array and perform all the arithemetic operations on it\n",
    "\n",
    "a1=np.array([1,2,3])\n",
    "print(\"array+2= \",np.add(a1,2))\n",
    "print(\"array-2= \",np.subtract(a1,2))\n",
    "print(\"array*2= \",np.multiply(a1,2))\n",
    "print(\"array/2= \",np.divide(a1,2))\n",
    "print(\"array//2= \",np.floor_divide(a1,2))\n",
    "print(\"array%2= \",np.mod(a1,2))\n",
    "\n",
    "#arithemtic operations can also be performed between two arrays(of same dimension and shape)\n",
    "a2=np.array([4,5,6])\n",
    "print(\"array1+array2= \",np.add(a1,a2))\n",
    "print(\"array1-array2= \",np.subtract(a1,a2))\n",
    "print(\"array1*array2= \",np.multiply(a1,a2))\n",
    "print(\"arraya/array2= \",np.divide(a1,a2))\n",
    "print(\"array1//array2= \",np.floor_divide(a1,a2))\n",
    "print(\"array1%array2= \",np.mod(a1,a2))"
   ]
  },
  {
   "cell_type": "code",
   "execution_count": 158,
   "id": "08d5cad1",
   "metadata": {},
   "outputs": [
    {
     "name": "stdout",
     "output_type": "stream",
     "text": [
      "Matrix A:\n",
      " [[1 2]\n",
      " [3 4]]\n",
      "Matrix B:\n",
      " [[5 6]\n",
      " [7 8]]\n",
      "a)\n",
      "Adding matrices A and B:\n",
      " [[ 6  8]\n",
      " [10 12]]\n",
      "b)\n",
      "Multiplying matrices A and B element-wise:\n",
      " [[ 5 12]\n",
      " [21 32]]\n",
      "c)\n",
      "Dot product of matrices A and B:\n",
      " [[19 22]\n",
      " [43 50]]\n"
     ]
    }
   ],
   "source": [
    "#7.Create a 2x2 matrix A with elements from 1 to 4 and another matrix B with elements from 5 to 8.\n",
    "#a. Add matrices A and B.\n",
    "#b. Multiply matrices A and B element-wise.\n",
    "#c. Find the dot product of matrices A and B.\n",
    "\n",
    "A=np.array([[1,2],[3,4]])\n",
    "B=np.array([[5,6],[7,8]])\n",
    "print(\"Matrix A:\\n\",A)\n",
    "print(\"Matrix B:\\n\",B)\n",
    "print(\"a)\\nAdding matrices A and B:\\n\",np.add(A,B))\n",
    "print(\"b)\\nMultiplying matrices A and B element-wise:\\n\",np.multiply(A,B))\n",
    "print(\"c)\\nDot product of matrices A and B:\\n\",np.dot(A,B))"
   ]
  },
  {
   "cell_type": "code",
   "execution_count": 205,
   "id": "f8f6736f",
   "metadata": {},
   "outputs": [
    {
     "name": "stdout",
     "output_type": "stream",
     "text": [
      "3X3 matrix C with random integers:\n",
      " [[94 95 70]\n",
      " [63 82 10]\n",
      " [44 19 60]]\n",
      "(a)\n",
      "Sum of each row in matrix C:\n",
      " [259 155 123]\n",
      "(b)\n",
      "Sum of each column in matrix C:\n",
      " [201 196 140]\n",
      "(c)\n",
      "Product of all elements in matrix C:\n",
      " 455513856\n"
     ]
    }
   ],
   "source": [
    "#8.Create a 3x3 matrix C with random integers.\n",
    "#a. Find the sum of each row in matrix C.\n",
    "#b. Find the sum of each column in matrix C.\n",
    "#c. Find the product of all elements in matrix C.\n",
    "\n",
    "C=np.random.randint(100,size=9).reshape(3,3)\n",
    "print(\"3X3 matrix C with random integers:\\n\",C)\n",
    "print(\"(a)\\nSum of each row in matrix C:\\n\",np.sum(C,axis=1))\n",
    "print(\"(b)\\nSum of each column in matrix C:\\n\",np.sum(C,axis=0))\n",
    "print(\"(c)\\nProduct of all elements in matrix C:\\n\",np.prod(C))"
   ]
  },
  {
   "cell_type": "markdown",
   "id": "a11140d5",
   "metadata": {},
   "source": []
  },
  {
   "cell_type": "code",
   "execution_count": 214,
   "id": "bf246267",
   "metadata": {},
   "outputs": [
    {
     "name": "stdout",
     "output_type": "stream",
     "text": [
      "Matrix C:\n",
      " [[3 0 3]\n",
      " [3 2 2]\n",
      " [1 5 5]\n",
      " [0 0 0]]\n",
      "a)\n",
      "Boolean array showing whether elements in C are greater than zero:\n",
      " [[ True False  True]\n",
      " [ True  True  True]\n",
      " [ True  True  True]\n",
      " [False False False]]\n",
      "b)\n",
      "Elements greater than 2 and less than 5 in C:  [3 3 3]\n"
     ]
    }
   ],
   "source": [
    "#9.a. Create a boolean array based on whether elements in matrix C are greater than 0.\n",
    "#  b. Use logical AND operation to find elements greater than 2 and less than 5 in matrix C.\n",
    "\n",
    "C=np.random.randint(6,size=12).reshape(4,3)\n",
    "print(\"Matrix C:\\n\",C)\n",
    "print(\"a)\\nBoolean array showing whether elements in C are greater than zero:\\n\",C>0)\n",
    "print(\"b)\\nElements greater than 2 and less than 5 in C: \",C[(C>2)&(C<5)])\n"
   ]
  },
  {
   "cell_type": "code",
   "execution_count": 220,
   "id": "719a1ba6",
   "metadata": {},
   "outputs": [
    {
     "name": "stdout",
     "output_type": "stream",
     "text": [
      "[[5 3 0 7 3]\n",
      " [5 1 8 4 6]\n",
      " [1 8 9 7 3]]\n",
      "a)\n",
      "Element in 2nd row and 3rd column of C:  [8]\n",
      "b)\n",
      "First two columns of matrix C:\n",
      " [[5 3]\n",
      " [5 1]\n",
      " [1 8]]\n",
      "c)\n",
      "All elements greater than 3 from matrix C:  [5 7 5 8 4 6 8 9 7]\n"
     ]
    }
   ],
   "source": [
    "#10. a. Access the element in the second row and third column of matrix C.\n",
    "#    b. Slice the first two columns of matrix C.\n",
    "#    c. Extract all elements greater than 3 from matrix C.\n",
    "\n",
    "C=np.random.randint(10,size=15).reshape(3,5)\n",
    "print(C)\n",
    "print(\"a)\\nElement in 2nd row and 3rd column of C: \",C[[1],[2]])\n",
    "print(\"b)\\nFirst two columns of matrix C:\\n\",C[0:,0:2])\n",
    "print(\"c)\\nAll elements greater than 3 from matrix C: \",C[C>3])"
   ]
  },
  {
   "cell_type": "code",
   "execution_count": null,
   "id": "e4c6c50f",
   "metadata": {},
   "outputs": [],
   "source": []
  }
 ],
 "metadata": {
  "kernelspec": {
   "display_name": "Python 3 (ipykernel)",
   "language": "python",
   "name": "python3"
  },
  "language_info": {
   "codemirror_mode": {
    "name": "ipython",
    "version": 3
   },
   "file_extension": ".py",
   "mimetype": "text/x-python",
   "name": "python",
   "nbconvert_exporter": "python",
   "pygments_lexer": "ipython3",
   "version": "3.11.3"
  }
 },
 "nbformat": 4,
 "nbformat_minor": 5
}
